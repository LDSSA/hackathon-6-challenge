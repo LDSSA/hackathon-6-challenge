{
 "cells": [
  {
   "cell_type": "code",
   "execution_count": 1,
   "metadata": {},
   "outputs": [],
   "source": [
    "import pandas as pd\n",
    "import numpy as np\n",
    "\n",
    "from sklearn.linear_model import LogisticRegressionCV\n",
    "from sklearn.metrics import roc_auc_score\n",
    "from sklearn.model_selection import train_test_split\n",
    "from sklearn.ensemble import GradientBoostingClassifier\n",
    "from category_encoders import OneHotEncoder\n",
    "from sklearn.preprocessing import Imputer\n",
    "import json\n",
    "\n",
    "%matplotlib inline"
   ]
  },
  {
   "cell_type": "markdown",
   "metadata": {},
   "source": [
    "# Example Observations"
   ]
  },
  {
   "cell_type": "markdown",
   "metadata": {},
   "source": [
    "# 1. Clean Observations"
   ]
  },
  {
   "cell_type": "code",
   "execution_count": 2,
   "metadata": {},
   "outputs": [
    {
     "name": "stdout",
     "output_type": "stream",
     "text": [
      "(8164, 14)\n"
     ]
    },
    {
     "data": {
      "text/html": [
       "<div>\n",
       "<style scoped>\n",
       "    .dataframe tbody tr th:only-of-type {\n",
       "        vertical-align: middle;\n",
       "    }\n",
       "\n",
       "    .dataframe tbody tr th {\n",
       "        vertical-align: top;\n",
       "    }\n",
       "\n",
       "    .dataframe thead th {\n",
       "        text-align: right;\n",
       "    }\n",
       "</style>\n",
       "<table border=\"1\" class=\"dataframe\">\n",
       "  <thead>\n",
       "    <tr style=\"text-align: right;\">\n",
       "      <th></th>\n",
       "      <th>id</th>\n",
       "      <th>birth date</th>\n",
       "      <th>job type</th>\n",
       "      <th>school level</th>\n",
       "      <th>domestic status</th>\n",
       "      <th>profession</th>\n",
       "      <th>domestic relationship type</th>\n",
       "      <th>ethnicity</th>\n",
       "      <th>gender</th>\n",
       "      <th>earned dividends</th>\n",
       "      <th>interest earned</th>\n",
       "      <th>monthly work</th>\n",
       "      <th>country of origin</th>\n",
       "      <th>target</th>\n",
       "    </tr>\n",
       "  </thead>\n",
       "  <tbody>\n",
       "    <tr>\n",
       "      <th>0</th>\n",
       "      <td>15463</td>\n",
       "      <td>1983-12-26</td>\n",
       "      <td>private</td>\n",
       "      <td>secondary</td>\n",
       "      <td>single</td>\n",
       "      <td>mechanic</td>\n",
       "      <td>never married</td>\n",
       "      <td>afro american</td>\n",
       "      <td>Female</td>\n",
       "      <td>0</td>\n",
       "      <td>0</td>\n",
       "      <td>160</td>\n",
       "      <td>u.s.</td>\n",
       "      <td>1</td>\n",
       "    </tr>\n",
       "    <tr>\n",
       "      <th>1</th>\n",
       "      <td>2202</td>\n",
       "      <td>1962-12-31</td>\n",
       "      <td>private</td>\n",
       "      <td>college graduate</td>\n",
       "      <td>spouse passed</td>\n",
       "      <td>secretarial</td>\n",
       "      <td>never married</td>\n",
       "      <td>white and privileged</td>\n",
       "      <td>Female</td>\n",
       "      <td>0</td>\n",
       "      <td>0</td>\n",
       "      <td>160</td>\n",
       "      <td>u.s.</td>\n",
       "      <td>1</td>\n",
       "    </tr>\n",
       "    <tr>\n",
       "      <th>2</th>\n",
       "      <td>29145</td>\n",
       "      <td>1979-12-27</td>\n",
       "      <td>private</td>\n",
       "      <td>college graduate</td>\n",
       "      <td>married 2</td>\n",
       "      <td>C-level</td>\n",
       "      <td>has husband</td>\n",
       "      <td>white and privileged</td>\n",
       "      <td>Female</td>\n",
       "      <td>0</td>\n",
       "      <td>0</td>\n",
       "      <td>200</td>\n",
       "      <td>u.s.</td>\n",
       "      <td>0</td>\n",
       "    </tr>\n",
       "    <tr>\n",
       "      <th>3</th>\n",
       "      <td>11330</td>\n",
       "      <td>1965-12-30</td>\n",
       "      <td>private</td>\n",
       "      <td>entry level college</td>\n",
       "      <td>married 2</td>\n",
       "      <td>sales</td>\n",
       "      <td>has husband</td>\n",
       "      <td>white and privileged</td>\n",
       "      <td>Female</td>\n",
       "      <td>0</td>\n",
       "      <td>0</td>\n",
       "      <td>208</td>\n",
       "      <td>canada</td>\n",
       "      <td>0</td>\n",
       "    </tr>\n",
       "    <tr>\n",
       "      <th>4</th>\n",
       "      <td>20822</td>\n",
       "      <td>1967-12-30</td>\n",
       "      <td>self-emp-inc</td>\n",
       "      <td>entry level college</td>\n",
       "      <td>divorce pending</td>\n",
       "      <td>C-level</td>\n",
       "      <td>never married</td>\n",
       "      <td>white and privileged</td>\n",
       "      <td>Female</td>\n",
       "      <td>0</td>\n",
       "      <td>0</td>\n",
       "      <td>300</td>\n",
       "      <td>u.s.</td>\n",
       "      <td>1</td>\n",
       "    </tr>\n",
       "  </tbody>\n",
       "</table>\n",
       "</div>"
      ],
      "text/plain": [
       "      id  birth date      job type         school level  domestic status  \\\n",
       "0  15463  1983-12-26       private            secondary           single   \n",
       "1   2202  1962-12-31       private     college graduate    spouse passed   \n",
       "2  29145  1979-12-27       private     college graduate        married 2   \n",
       "3  11330  1965-12-30       private  entry level college        married 2   \n",
       "4  20822  1967-12-30  self-emp-inc  entry level college  divorce pending   \n",
       "\n",
       "    profession domestic relationship type             ethnicity  gender  \\\n",
       "0     mechanic              never married         afro american  Female   \n",
       "1  secretarial              never married  white and privileged  Female   \n",
       "2      C-level                has husband  white and privileged  Female   \n",
       "3        sales                has husband  white and privileged  Female   \n",
       "4      C-level              never married  white and privileged  Female   \n",
       "\n",
       "   earned dividends  interest earned  monthly work country of origin  target  \n",
       "0                 0                0           160              u.s.       1  \n",
       "1                 0                0           160              u.s.       1  \n",
       "2                 0                0           200              u.s.       0  \n",
       "3                 0                0           208            canada       0  \n",
       "4                 0                0           300              u.s.       1  "
      ]
     },
     "execution_count": 2,
     "metadata": {},
     "output_type": "execute_result"
    }
   ],
   "source": [
    "df = pd.read_csv('train.csv')\n",
    "print(df.shape)\n",
    "df.head()"
   ]
  },
  {
   "cell_type": "markdown",
   "metadata": {},
   "source": [
    "- 10 clean observations from the actual training set.    \n",
    "\n",
    "\n",
    "\n",
    "- Dirty observations:\n",
    "- Missing Values (`monthly work` with a missing value (NaN), and `gender` with missing value (NaN))\n",
    "- Categories never seen before (e.g., Male inside `Gender`, New_Level inside `school level`)\n",
    "- Missing column (job type)\n",
    "- `school level` as integer\n",
    "- `monthly work` as str (non-numerical)\n",
    "- `monthly work` as a numerical parseble str\n",
    "- birth date with different format (dd-mm-yyyy)\n",
    "- empty observation\n",
    "- empty payload\n"
   ]
  },
  {
   "cell_type": "code",
   "execution_count": 3,
   "metadata": {},
   "outputs": [
    {
     "data": {
      "text/html": [
       "<div>\n",
       "<style scoped>\n",
       "    .dataframe tbody tr th:only-of-type {\n",
       "        vertical-align: middle;\n",
       "    }\n",
       "\n",
       "    .dataframe tbody tr th {\n",
       "        vertical-align: top;\n",
       "    }\n",
       "\n",
       "    .dataframe thead th {\n",
       "        text-align: right;\n",
       "    }\n",
       "</style>\n",
       "<table border=\"1\" class=\"dataframe\">\n",
       "  <thead>\n",
       "    <tr style=\"text-align: right;\">\n",
       "      <th></th>\n",
       "      <th>birth date</th>\n",
       "      <th>job type</th>\n",
       "      <th>school level</th>\n",
       "      <th>domestic status</th>\n",
       "      <th>profession</th>\n",
       "      <th>domestic relationship type</th>\n",
       "      <th>ethnicity</th>\n",
       "      <th>gender</th>\n",
       "      <th>earned dividends</th>\n",
       "      <th>interest earned</th>\n",
       "      <th>monthly work</th>\n",
       "      <th>country of origin</th>\n",
       "    </tr>\n",
       "  </thead>\n",
       "  <tbody>\n",
       "    <tr>\n",
       "      <th>3875</th>\n",
       "      <td>1994-12-23</td>\n",
       "      <td>private</td>\n",
       "      <td>entry level college</td>\n",
       "      <td>single</td>\n",
       "      <td>C-level</td>\n",
       "      <td>not living with family</td>\n",
       "      <td>white and privileged</td>\n",
       "      <td>Female</td>\n",
       "      <td>0</td>\n",
       "      <td>0</td>\n",
       "      <td>200</td>\n",
       "      <td>u.s.</td>\n",
       "    </tr>\n",
       "    <tr>\n",
       "      <th>4265</th>\n",
       "      <td>1958-01-01</td>\n",
       "      <td>private</td>\n",
       "      <td>secondary-7 through 8</td>\n",
       "      <td>d</td>\n",
       "      <td>other</td>\n",
       "      <td>not living with family</td>\n",
       "      <td>white and privileged</td>\n",
       "      <td>Female</td>\n",
       "      <td>0</td>\n",
       "      <td>0</td>\n",
       "      <td>160</td>\n",
       "      <td>u.s.</td>\n",
       "    </tr>\n",
       "    <tr>\n",
       "      <th>4402</th>\n",
       "      <td>1953-01-02</td>\n",
       "      <td>private</td>\n",
       "      <td>secondary</td>\n",
       "      <td>spouse passed</td>\n",
       "      <td>secretarial</td>\n",
       "      <td>not living with family</td>\n",
       "      <td>white and privileged</td>\n",
       "      <td>Female</td>\n",
       "      <td>0</td>\n",
       "      <td>0</td>\n",
       "      <td>80</td>\n",
       "      <td>u.s.</td>\n",
       "    </tr>\n",
       "    <tr>\n",
       "      <th>5161</th>\n",
       "      <td>1984-12-25</td>\n",
       "      <td>private</td>\n",
       "      <td>secondary</td>\n",
       "      <td>single</td>\n",
       "      <td>other</td>\n",
       "      <td>living with extende family</td>\n",
       "      <td>american indian</td>\n",
       "      <td>Female</td>\n",
       "      <td>0</td>\n",
       "      <td>0</td>\n",
       "      <td>144</td>\n",
       "      <td>u.s.</td>\n",
       "    </tr>\n",
       "    <tr>\n",
       "      <th>4261</th>\n",
       "      <td>1953-01-02</td>\n",
       "      <td>private</td>\n",
       "      <td>entry level college</td>\n",
       "      <td>spouse passed</td>\n",
       "      <td>secretarial</td>\n",
       "      <td>not living with family</td>\n",
       "      <td>white and privileged</td>\n",
       "      <td>Female</td>\n",
       "      <td>0</td>\n",
       "      <td>0</td>\n",
       "      <td>160</td>\n",
       "      <td>u.s.</td>\n",
       "    </tr>\n",
       "    <tr>\n",
       "      <th>39</th>\n",
       "      <td>1957-01-01</td>\n",
       "      <td>private</td>\n",
       "      <td>entry level college</td>\n",
       "      <td>single</td>\n",
       "      <td>estate employee</td>\n",
       "      <td>not living with family</td>\n",
       "      <td>white and privileged</td>\n",
       "      <td>Female</td>\n",
       "      <td>0</td>\n",
       "      <td>0</td>\n",
       "      <td>160</td>\n",
       "      <td>u.s.</td>\n",
       "    </tr>\n",
       "    <tr>\n",
       "      <th>3811</th>\n",
       "      <td>1997-12-22</td>\n",
       "      <td>private</td>\n",
       "      <td>entry level college</td>\n",
       "      <td>single</td>\n",
       "      <td>sales</td>\n",
       "      <td>not living with family</td>\n",
       "      <td>white and privileged</td>\n",
       "      <td>Female</td>\n",
       "      <td>0</td>\n",
       "      <td>0</td>\n",
       "      <td>120</td>\n",
       "      <td>u.s.</td>\n",
       "    </tr>\n",
       "    <tr>\n",
       "      <th>2975</th>\n",
       "      <td>1997-12-22</td>\n",
       "      <td>private</td>\n",
       "      <td>entry level college</td>\n",
       "      <td>single</td>\n",
       "      <td>other</td>\n",
       "      <td>living with child</td>\n",
       "      <td>white and privileged</td>\n",
       "      <td>Female</td>\n",
       "      <td>0</td>\n",
       "      <td>0</td>\n",
       "      <td>80</td>\n",
       "      <td>u.s.</td>\n",
       "    </tr>\n",
       "    <tr>\n",
       "      <th>4761</th>\n",
       "      <td>1950-01-03</td>\n",
       "      <td>unknown</td>\n",
       "      <td>entry level college</td>\n",
       "      <td>single</td>\n",
       "      <td>unknown</td>\n",
       "      <td>never married</td>\n",
       "      <td>afro american</td>\n",
       "      <td>Female</td>\n",
       "      <td>0</td>\n",
       "      <td>0</td>\n",
       "      <td>160</td>\n",
       "      <td>u.s.</td>\n",
       "    </tr>\n",
       "    <tr>\n",
       "      <th>473</th>\n",
       "      <td>1973-12-28</td>\n",
       "      <td>unknown</td>\n",
       "      <td>entry level college</td>\n",
       "      <td>d</td>\n",
       "      <td>unknown</td>\n",
       "      <td>never married</td>\n",
       "      <td>white and privileged</td>\n",
       "      <td>Female</td>\n",
       "      <td>0</td>\n",
       "      <td>0</td>\n",
       "      <td>40</td>\n",
       "      <td>poland</td>\n",
       "    </tr>\n",
       "  </tbody>\n",
       "</table>\n",
       "</div>"
      ],
      "text/plain": [
       "      birth date job type           school level domestic status  \\\n",
       "3875  1994-12-23  private    entry level college          single   \n",
       "4265  1958-01-01  private  secondary-7 through 8               d   \n",
       "4402  1953-01-02  private              secondary   spouse passed   \n",
       "5161  1984-12-25  private              secondary          single   \n",
       "4261  1953-01-02  private    entry level college   spouse passed   \n",
       "39    1957-01-01  private    entry level college          single   \n",
       "3811  1997-12-22  private    entry level college          single   \n",
       "2975  1997-12-22  private    entry level college          single   \n",
       "4761  1950-01-03  unknown    entry level college          single   \n",
       "473   1973-12-28  unknown    entry level college               d   \n",
       "\n",
       "           profession  domestic relationship type             ethnicity  \\\n",
       "3875          C-level      not living with family  white and privileged   \n",
       "4265            other      not living with family  white and privileged   \n",
       "4402      secretarial      not living with family  white and privileged   \n",
       "5161            other  living with extende family       american indian   \n",
       "4261      secretarial      not living with family  white and privileged   \n",
       "39    estate employee      not living with family  white and privileged   \n",
       "3811            sales      not living with family  white and privileged   \n",
       "2975            other           living with child  white and privileged   \n",
       "4761          unknown               never married         afro american   \n",
       "473           unknown               never married  white and privileged   \n",
       "\n",
       "      gender  earned dividends  interest earned  monthly work  \\\n",
       "3875  Female                 0                0           200   \n",
       "4265  Female                 0                0           160   \n",
       "4402  Female                 0                0            80   \n",
       "5161  Female                 0                0           144   \n",
       "4261  Female                 0                0           160   \n",
       "39    Female                 0                0           160   \n",
       "3811  Female                 0                0           120   \n",
       "2975  Female                 0                0            80   \n",
       "4761  Female                 0                0           160   \n",
       "473   Female                 0                0            40   \n",
       "\n",
       "     country of origin  \n",
       "3875              u.s.  \n",
       "4265              u.s.  \n",
       "4402              u.s.  \n",
       "5161              u.s.  \n",
       "4261              u.s.  \n",
       "39                u.s.  \n",
       "3811              u.s.  \n",
       "2975              u.s.  \n",
       "4761              u.s.  \n",
       "473             poland  "
      ]
     },
     "execution_count": 3,
     "metadata": {},
     "output_type": "execute_result"
    }
   ],
   "source": [
    "examples = df.sample(10, random_state=1)\n",
    "examples = examples.drop(['id', 'target'], axis=1)\n",
    "examples"
   ]
  },
  {
   "cell_type": "code",
   "execution_count": 4,
   "metadata": {},
   "outputs": [
    {
     "data": {
      "text/plain": [
       "[{'id': 0,\n",
       "  'observation': {'birth date': '1994-12-23',\n",
       "   'country of origin': 'u.s.',\n",
       "   'domestic relationship type': 'not living with family',\n",
       "   'domestic status': 'single',\n",
       "   'earned dividends': 0,\n",
       "   'ethnicity': 'white and privileged',\n",
       "   'gender': 'Female',\n",
       "   'interest earned': 0,\n",
       "   'job type': 'private',\n",
       "   'monthly work': 200,\n",
       "   'profession': 'C-level',\n",
       "   'school level': 'entry level college'}},\n",
       " {'id': 1,\n",
       "  'observation': {'birth date': '1958-01-01',\n",
       "   'country of origin': 'u.s.',\n",
       "   'domestic relationship type': 'not living with family',\n",
       "   'domestic status': 'd',\n",
       "   'earned dividends': 0,\n",
       "   'ethnicity': 'white and privileged',\n",
       "   'gender': 'Female',\n",
       "   'interest earned': 0,\n",
       "   'job type': 'private',\n",
       "   'monthly work': 160,\n",
       "   'profession': 'other',\n",
       "   'school level': 'secondary-7 through 8'}},\n",
       " {'id': 2,\n",
       "  'observation': {'birth date': '1953-01-02',\n",
       "   'country of origin': 'u.s.',\n",
       "   'domestic relationship type': 'not living with family',\n",
       "   'domestic status': 'spouse passed',\n",
       "   'earned dividends': 0,\n",
       "   'ethnicity': 'white and privileged',\n",
       "   'gender': 'Female',\n",
       "   'interest earned': 0,\n",
       "   'job type': 'private',\n",
       "   'monthly work': 80,\n",
       "   'profession': 'secretarial',\n",
       "   'school level': 'secondary'}},\n",
       " {'id': 3,\n",
       "  'observation': {'birth date': '1984-12-25',\n",
       "   'country of origin': 'u.s.',\n",
       "   'domestic relationship type': 'living with extende family',\n",
       "   'domestic status': 'single',\n",
       "   'earned dividends': 0,\n",
       "   'ethnicity': 'american indian',\n",
       "   'gender': 'Female',\n",
       "   'interest earned': 0,\n",
       "   'job type': 'private',\n",
       "   'monthly work': 144,\n",
       "   'profession': 'other',\n",
       "   'school level': 'secondary'}},\n",
       " {'id': 4,\n",
       "  'observation': {'birth date': '1953-01-02',\n",
       "   'country of origin': 'u.s.',\n",
       "   'domestic relationship type': 'not living with family',\n",
       "   'domestic status': 'spouse passed',\n",
       "   'earned dividends': 0,\n",
       "   'ethnicity': 'white and privileged',\n",
       "   'gender': 'Female',\n",
       "   'interest earned': 0,\n",
       "   'job type': 'private',\n",
       "   'monthly work': 160,\n",
       "   'profession': 'secretarial',\n",
       "   'school level': 'entry level college'}},\n",
       " {'id': 5,\n",
       "  'observation': {'birth date': '1957-01-01',\n",
       "   'country of origin': 'u.s.',\n",
       "   'domestic relationship type': 'not living with family',\n",
       "   'domestic status': 'single',\n",
       "   'earned dividends': 0,\n",
       "   'ethnicity': 'white and privileged',\n",
       "   'gender': 'Female',\n",
       "   'interest earned': 0,\n",
       "   'job type': 'private',\n",
       "   'monthly work': 160,\n",
       "   'profession': 'estate employee',\n",
       "   'school level': 'entry level college'}},\n",
       " {'id': 6,\n",
       "  'observation': {'birth date': '1997-12-22',\n",
       "   'country of origin': 'u.s.',\n",
       "   'domestic relationship type': 'not living with family',\n",
       "   'domestic status': 'single',\n",
       "   'earned dividends': 0,\n",
       "   'ethnicity': 'white and privileged',\n",
       "   'gender': 'Female',\n",
       "   'interest earned': 0,\n",
       "   'job type': 'private',\n",
       "   'monthly work': 120,\n",
       "   'profession': 'sales',\n",
       "   'school level': 'entry level college'}},\n",
       " {'id': 7,\n",
       "  'observation': {'birth date': '1997-12-22',\n",
       "   'country of origin': 'u.s.',\n",
       "   'domestic relationship type': 'living with child',\n",
       "   'domestic status': 'single',\n",
       "   'earned dividends': 0,\n",
       "   'ethnicity': 'white and privileged',\n",
       "   'gender': 'Female',\n",
       "   'interest earned': 0,\n",
       "   'job type': 'private',\n",
       "   'monthly work': 80,\n",
       "   'profession': 'other',\n",
       "   'school level': 'entry level college'}},\n",
       " {'id': 8,\n",
       "  'observation': {'birth date': '1950-01-03',\n",
       "   'country of origin': 'u.s.',\n",
       "   'domestic relationship type': 'never married',\n",
       "   'domestic status': 'single',\n",
       "   'earned dividends': 0,\n",
       "   'ethnicity': 'afro american',\n",
       "   'gender': 'Female',\n",
       "   'interest earned': 0,\n",
       "   'job type': 'unknown',\n",
       "   'monthly work': 160,\n",
       "   'profession': 'unknown',\n",
       "   'school level': 'entry level college'}},\n",
       " {'id': 9,\n",
       "  'observation': {'birth date': '1973-12-28',\n",
       "   'country of origin': 'poland',\n",
       "   'domestic relationship type': 'never married',\n",
       "   'domestic status': 'd',\n",
       "   'earned dividends': 0,\n",
       "   'ethnicity': 'white and privileged',\n",
       "   'gender': 'Female',\n",
       "   'interest earned': 0,\n",
       "   'job type': 'unknown',\n",
       "   'monthly work': 40,\n",
       "   'profession': 'unknown',\n",
       "   'school level': 'entry level college'}}]"
      ]
     },
     "execution_count": 4,
     "metadata": {},
     "output_type": "execute_result"
    }
   ],
   "source": [
    "examples = [k.to_dict() for _id, k in examples.T.items()]\n",
    "\n",
    "examples = [{'id': i, 'observation': k} for i, k in enumerate(examples)]\n",
    "examples"
   ]
  },
  {
   "cell_type": "code",
   "execution_count": 5,
   "metadata": {
    "scrolled": false
   },
   "outputs": [],
   "source": [
    "#[json.dumps(k) for k in examples]"
   ]
  },
  {
   "cell_type": "code",
   "execution_count": 6,
   "metadata": {},
   "outputs": [],
   "source": [
    "with open('clean_observations.json', 'w') as fh:\n",
    "    json.dump(examples, fh)"
   ]
  },
  {
   "cell_type": "code",
   "execution_count": 7,
   "metadata": {},
   "outputs": [
    {
     "name": "stdout",
     "output_type": "stream",
     "text": [
      "[{\"id\": 0, \"observation\": {\"monthly work\": 200, \"birth date\": \"1994-12-23\", \"domestic status\": \"single\", \"domestic relationship type\": \"not living with family\", \"profession\": \"C-level\", \"earned dividends\": 0, \"job type\": \"private\", \"country of origin\": \"u.s.\", \"school level\": \"entry level college\", \"gender\": \"Female\", \"ethnicity\": \"white and privileged\", \"interest earned\": 0}}, {\"id\": 1, \"observation\": {\"monthly work\": 160, \"birth date\": \"1958-01-01\", \"domestic status\": \"d\", \"domestic relationship type\": \"not living with family\", \"profession\": \"other\", \"earned dividends\": 0, \"job type\": \"private\", \"country of origin\": \"u.s.\", \"school level\": \"secondary-7 through 8\", \"gender\": \"Female\", \"ethnicity\": \"white and privileged\", \"interest earned\": 0}}, {\"id\": 2, \"observation\": {\"monthly work\": 80, \"birth date\": \"1953-01-02\", \"domestic status\": \"spouse passed\", \"domestic relationship type\": \"not living with family\", \"profession\": \"secretarial\", \"earned dividends\": 0, \"job type\": \"private\", \"country of origin\": \"u.s.\", \"school level\": \"secondary\", \"gender\": \"Female\", \"ethnicity\": \"white and privileged\", \"interest earned\": 0}}, {\"id\": 3, \"observation\": {\"monthly work\": 144, \"birth date\": \"1984-12-25\", \"domestic status\": \"single\", \"domestic relationship type\": \"living with extende family\", \"profession\": \"other\", \"earned dividends\": 0, \"job type\": \"private\", \"country of origin\": \"u.s.\", \"school level\": \"secondary\", \"gender\": \"Female\", \"ethnicity\": \"american indian\", \"interest earned\": 0}}, {\"id\": 4, \"observation\": {\"monthly work\": 160, \"birth date\": \"1953-01-02\", \"domestic status\": \"spouse passed\", \"domestic relationship type\": \"not living with family\", \"profession\": \"secretarial\", \"earned dividends\": 0, \"job type\": \"private\", \"country of origin\": \"u.s.\", \"school level\": \"entry level college\", \"gender\": \"Female\", \"ethnicity\": \"white and privileged\", \"interest earned\": 0}}, {\"id\": 5, \"observation\": {\"monthly work\": 160, \"birth date\": \"1957-01-01\", \"domestic status\": \"single\", \"domestic relationship type\": \"not living with family\", \"profession\": \"estate employee\", \"earned dividends\": 0, \"job type\": \"private\", \"country of origin\": \"u.s.\", \"school level\": \"entry level college\", \"gender\": \"Female\", \"ethnicity\": \"white and privileged\", \"interest earned\": 0}}, {\"id\": 6, \"observation\": {\"monthly work\": 120, \"birth date\": \"1997-12-22\", \"domestic status\": \"single\", \"domestic relationship type\": \"not living with family\", \"profession\": \"sales\", \"earned dividends\": 0, \"job type\": \"private\", \"country of origin\": \"u.s.\", \"school level\": \"entry level college\", \"gender\": \"Female\", \"ethnicity\": \"white and privileged\", \"interest earned\": 0}}, {\"id\": 7, \"observation\": {\"monthly work\": 80, \"birth date\": \"1997-12-22\", \"domestic status\": \"single\", \"domestic relationship type\": \"living with child\", \"profession\": \"other\", \"earned dividends\": 0, \"job type\": \"private\", \"country of origin\": \"u.s.\", \"school level\": \"entry level college\", \"gender\": \"Female\", \"ethnicity\": \"white and privileged\", \"interest earned\": 0}}, {\"id\": 8, \"observation\": {\"monthly work\": 160, \"birth date\": \"1950-01-03\", \"domestic status\": \"single\", \"domestic relationship type\": \"never married\", \"profession\": \"unknown\", \"earned dividends\": 0, \"job type\": \"unknown\", \"country of origin\": \"u.s.\", \"school level\": \"entry level college\", \"gender\": \"Female\", \"ethnicity\": \"afro american\", \"interest earned\": 0}}, {\"id\": 9, \"observation\": {\"monthly work\": 40, \"birth date\": \"1973-12-28\", \"domestic status\": \"d\", \"domestic relationship type\": \"never married\", \"profession\": \"unknown\", \"earned dividends\": 0, \"job type\": \"unknown\", \"country of origin\": \"poland\", \"school level\": \"entry level college\", \"gender\": \"Female\", \"ethnicity\": \"white and privileged\", \"interest earned\": 0}}]"
     ]
    }
   ],
   "source": [
    "!cat clean_observations.json"
   ]
  },
  {
   "cell_type": "markdown",
   "metadata": {},
   "source": [
    "# Dirty ones\n",
    "- Dirty observations:\n",
    "- Missing Values (`monthly work` with a missing value (NaN), and `gender` with missing value (NaN))\n",
    "- Categories never seen before (e.g., Male inside `Gender`, New_Level inside `school level`)\n",
    "- Missing column (job type)\n",
    "- `school level` as integer\n",
    "- `monthly work` as str (non-numerical)\n",
    "- `monthly work` as a numerical parseble str\n",
    "- birth date with different format (dd-mm-yyyy)\n",
    "- empty observation\n",
    "- empty payload\n"
   ]
  },
  {
   "cell_type": "code",
   "execution_count": 8,
   "metadata": {},
   "outputs": [],
   "source": [
    "import copy\n",
    "dirty_examples = copy.deepcopy(examples[:9])"
   ]
  },
  {
   "cell_type": "code",
   "execution_count": 9,
   "metadata": {},
   "outputs": [],
   "source": [
    "for example in dirty_examples:\n",
    "    example['id'] = 100 + example['id']"
   ]
  },
  {
   "cell_type": "code",
   "execution_count": 10,
   "metadata": {},
   "outputs": [
    {
     "data": {
      "text/plain": [
       "{'id': 100,\n",
       " 'observation': {'birth date': '1994-12-23',\n",
       "  'country of origin': 'u.s.',\n",
       "  'domestic relationship type': 'not living with family',\n",
       "  'domestic status': 'single',\n",
       "  'earned dividends': 0,\n",
       "  'ethnicity': 'white and privileged',\n",
       "  'gender': None,\n",
       "  'interest earned': 0,\n",
       "  'job type': 'private',\n",
       "  'monthly work': None,\n",
       "  'profession': 'C-level',\n",
       "  'school level': 'entry level college'}}"
      ]
     },
     "execution_count": 10,
     "metadata": {},
     "output_type": "execute_result"
    }
   ],
   "source": [
    "# 1. Missing Values (monthly work with a missing value (NaN), and gender with missing value (NaN))\n",
    "dirty_examples[0]['observation']['monthly work'] = None\n",
    "dirty_examples[0]['observation']['gender'] = None\n",
    "dirty_examples[0]"
   ]
  },
  {
   "cell_type": "code",
   "execution_count": 11,
   "metadata": {},
   "outputs": [
    {
     "data": {
      "text/plain": [
       "{'id': 101,\n",
       " 'observation': {'birth date': '1958-01-01',\n",
       "  'country of origin': 'u.s.',\n",
       "  'domestic relationship type': 'not living with family',\n",
       "  'domestic status': 'd',\n",
       "  'earned dividends': 0,\n",
       "  'ethnicity': 'white and privileged',\n",
       "  'gender': 'Male',\n",
       "  'interest earned': 0,\n",
       "  'job type': 'private',\n",
       "  'monthly work': 160,\n",
       "  'profession': 'other',\n",
       "  'school level': 'geniOus'}}"
      ]
     },
     "execution_count": 11,
     "metadata": {},
     "output_type": "execute_result"
    }
   ],
   "source": [
    "# 2. Categories never seen before (e.g., Male inside Gender, New_Level inside school level)\n",
    "dirty_examples[1]['observation']['gender'] = 'Male'\n",
    "dirty_examples[1]['observation']['school level'] = 'geniOus'\n",
    "dirty_examples[1]"
   ]
  },
  {
   "cell_type": "code",
   "execution_count": 12,
   "metadata": {},
   "outputs": [
    {
     "data": {
      "text/plain": [
       "{'birth date': '1953-01-02',\n",
       " 'country of origin': 'u.s.',\n",
       " 'domestic relationship type': 'not living with family',\n",
       " 'domestic status': 'spouse passed',\n",
       " 'earned dividends': 0,\n",
       " 'ethnicity': 'white and privileged',\n",
       " 'gender': 'Female',\n",
       " 'interest earned': 0,\n",
       " 'monthly work': 80,\n",
       " 'profession': 'secretarial',\n",
       " 'school level': 'secondary'}"
      ]
     },
     "execution_count": 12,
     "metadata": {},
     "output_type": "execute_result"
    }
   ],
   "source": [
    "# 3. Missing column (job type)\n",
    "del dirty_examples[2]['observation']['job type']\n",
    "dirty_examples[2]['observation']"
   ]
  },
  {
   "cell_type": "code",
   "execution_count": 13,
   "metadata": {},
   "outputs": [
    {
     "data": {
      "text/plain": [
       "{'birth date': '1984-12-25',\n",
       " 'country of origin': 'u.s.',\n",
       " 'domestic relationship type': 'living with extende family',\n",
       " 'domestic status': 'single',\n",
       " 'earned dividends': 0,\n",
       " 'ethnicity': 'american indian',\n",
       " 'gender': 'Female',\n",
       " 'interest earned': 0,\n",
       " 'job type': 'private',\n",
       " 'monthly work': 144,\n",
       " 'profession': 'other',\n",
       " 'school level': 111}"
      ]
     },
     "execution_count": 13,
     "metadata": {},
     "output_type": "execute_result"
    }
   ],
   "source": [
    "# 4. school level as integer\n",
    "dirty_examples[3]['observation']['school level'] = 111\n",
    "dirty_examples[3]['observation']"
   ]
  },
  {
   "cell_type": "code",
   "execution_count": 14,
   "metadata": {},
   "outputs": [
    {
     "data": {
      "text/plain": [
       "{'birth date': '1953-01-02',\n",
       " 'country of origin': 'u.s.',\n",
       " 'domestic relationship type': 'not living with family',\n",
       " 'domestic status': 'spouse passed',\n",
       " 'earned dividends': 0,\n",
       " 'ethnicity': 'white and privileged',\n",
       " 'gender': 'Female',\n",
       " 'interest earned': 0,\n",
       " 'job type': 'private',\n",
       " 'monthly work': 'r32g',\n",
       " 'profession': 'secretarial',\n",
       " 'school level': 'entry level college'}"
      ]
     },
     "execution_count": 14,
     "metadata": {},
     "output_type": "execute_result"
    }
   ],
   "source": [
    "# monthly work as str (non-numerical)\n",
    "dirty_examples[4]['observation']['monthly work'] = 'r32g'\n",
    "dirty_examples[4]['observation']"
   ]
  },
  {
   "cell_type": "code",
   "execution_count": 15,
   "metadata": {},
   "outputs": [
    {
     "data": {
      "text/plain": [
       "{'birth date': '1957-01-01',\n",
       " 'country of origin': 'u.s.',\n",
       " 'domestic relationship type': 'not living with family',\n",
       " 'domestic status': 'single',\n",
       " 'earned dividends': 0,\n",
       " 'ethnicity': 'white and privileged',\n",
       " 'gender': 'Female',\n",
       " 'interest earned': 0,\n",
       " 'job type': 'private',\n",
       " 'monthly work': '40',\n",
       " 'profession': 'estate employee',\n",
       " 'school level': 'entry level college'}"
      ]
     },
     "execution_count": 15,
     "metadata": {},
     "output_type": "execute_result"
    }
   ],
   "source": [
    "# monthly work as str (non-numerical)\n",
    "dirty_examples[5]['observation']['monthly work'] = '40'\n",
    "dirty_examples[5]['observation']"
   ]
  },
  {
   "cell_type": "code",
   "execution_count": 16,
   "metadata": {},
   "outputs": [
    {
     "data": {
      "text/plain": [
       "{'birth date': '01-01-1946',\n",
       " 'country of origin': 'u.s.',\n",
       " 'domestic relationship type': 'not living with family',\n",
       " 'domestic status': 'single',\n",
       " 'earned dividends': 0,\n",
       " 'ethnicity': 'white and privileged',\n",
       " 'gender': 'Female',\n",
       " 'interest earned': 0,\n",
       " 'job type': 'private',\n",
       " 'monthly work': 120,\n",
       " 'profession': 'sales',\n",
       " 'school level': 'entry level college'}"
      ]
     },
     "execution_count": 16,
     "metadata": {},
     "output_type": "execute_result"
    }
   ],
   "source": [
    "# birth date with different format (dd-mm-yyyy)\n",
    "dirty_examples[6]['observation']['birth date'] = '01-01-1946'\n",
    "dirty_examples[6]['observation']"
   ]
  },
  {
   "cell_type": "code",
   "execution_count": 17,
   "metadata": {},
   "outputs": [
    {
     "data": {
      "text/plain": [
       "{}"
      ]
     },
     "execution_count": 17,
     "metadata": {},
     "output_type": "execute_result"
    }
   ],
   "source": [
    "# empty observation\n",
    "dirty_examples[7]['observation'] = {}\n",
    "dirty_examples[7]['observation']"
   ]
  },
  {
   "cell_type": "code",
   "execution_count": 18,
   "metadata": {},
   "outputs": [],
   "source": [
    "# empty payload\n",
    "dirty_examples[8] = {}"
   ]
  },
  {
   "cell_type": "code",
   "execution_count": 19,
   "metadata": {},
   "outputs": [],
   "source": [
    "with open('dirty_observations.json', 'w') as fh:\n",
    "    json.dump(dirty_examples, fh)"
   ]
  },
  {
   "cell_type": "code",
   "execution_count": 20,
   "metadata": {},
   "outputs": [
    {
     "name": "stdout",
     "output_type": "stream",
     "text": [
      "[{\"id\": 100, \"observation\": {\"monthly work\": null, \"country of origin\": \"u.s.\", \"domestic status\": \"single\", \"domestic relationship type\": \"not living with family\", \"profession\": \"C-level\", \"earned dividends\": 0, \"job type\": \"private\", \"birth date\": \"1994-12-23\", \"school level\": \"entry level college\", \"gender\": null, \"ethnicity\": \"white and privileged\", \"interest earned\": 0}}, {\"id\": 101, \"observation\": {\"monthly work\": 160, \"country of origin\": \"u.s.\", \"domestic status\": \"d\", \"domestic relationship type\": \"not living with family\", \"profession\": \"other\", \"earned dividends\": 0, \"job type\": \"private\", \"birth date\": \"1958-01-01\", \"school level\": \"geniOus\", \"gender\": \"Male\", \"ethnicity\": \"white and privileged\", \"interest earned\": 0}}, {\"id\": 102, \"observation\": {\"monthly work\": 80, \"country of origin\": \"u.s.\", \"domestic status\": \"spouse passed\", \"domestic relationship type\": \"not living with family\", \"profession\": \"secretarial\", \"earned dividends\": 0, \"birth date\": \"1953-01-02\", \"school level\": \"secondary\", \"gender\": \"Female\", \"ethnicity\": \"white and privileged\", \"interest earned\": 0}}, {\"id\": 103, \"observation\": {\"monthly work\": 144, \"country of origin\": \"u.s.\", \"domestic status\": \"single\", \"domestic relationship type\": \"living with extende family\", \"profession\": \"other\", \"earned dividends\": 0, \"job type\": \"private\", \"birth date\": \"1984-12-25\", \"school level\": 111, \"gender\": \"Female\", \"ethnicity\": \"american indian\", \"interest earned\": 0}}, {\"id\": 104, \"observation\": {\"monthly work\": \"r32g\", \"country of origin\": \"u.s.\", \"domestic status\": \"spouse passed\", \"domestic relationship type\": \"not living with family\", \"profession\": \"secretarial\", \"earned dividends\": 0, \"job type\": \"private\", \"birth date\": \"1953-01-02\", \"school level\": \"entry level college\", \"gender\": \"Female\", \"ethnicity\": \"white and privileged\", \"interest earned\": 0}}, {\"id\": 105, \"observation\": {\"monthly work\": \"40\", \"country of origin\": \"u.s.\", \"domestic status\": \"single\", \"domestic relationship type\": \"not living with family\", \"profession\": \"estate employee\", \"earned dividends\": 0, \"job type\": \"private\", \"birth date\": \"1957-01-01\", \"school level\": \"entry level college\", \"gender\": \"Female\", \"ethnicity\": \"white and privileged\", \"interest earned\": 0}}, {\"id\": 106, \"observation\": {\"monthly work\": 120, \"country of origin\": \"u.s.\", \"domestic status\": \"single\", \"domestic relationship type\": \"not living with family\", \"profession\": \"sales\", \"earned dividends\": 0, \"job type\": \"private\", \"birth date\": \"01-01-1946\", \"school level\": \"entry level college\", \"gender\": \"Female\", \"ethnicity\": \"white and privileged\", \"interest earned\": 0}}, {\"id\": 107, \"observation\": {}}, {}]"
     ]
    }
   ],
   "source": [
    "!cat dirty_observations.json"
   ]
  },
  {
   "cell_type": "code",
   "execution_count": 24,
   "metadata": {},
   "outputs": [],
   "source": [
    "import requests\n",
    "\n",
    "list_app_names = []\n",
    "\n",
    "def simulate(app_names, observations):\n",
    "    responses = {}\n",
    "    \n",
    "    for app_name in app_names:\n",
    "        responses[app_name] = []\n",
    "        for observation in observations:\n",
    "            responses[app_name].append(\n",
    "                requests.post(\n",
    "                    'https://{}.herokuapp.com/predict'.format(app_name), \n",
    "                    json=observation))\n",
    "    return responses"
   ]
  },
  {
   "cell_type": "code",
   "execution_count": null,
   "metadata": {},
   "outputs": [],
   "source": [
    "app_names = ['<your app name>']"
   ]
  },
  {
   "cell_type": "code",
   "execution_count": 32,
   "metadata": {},
   "outputs": [],
   "source": [
    "outputs = simulate(app_names, dirty_examples + examples)"
   ]
  }
 ],
 "metadata": {
  "kernelspec": {
   "display_name": "Python 3",
   "language": "python",
   "name": "python3"
  },
  "language_info": {
   "codemirror_mode": {
    "name": "ipython",
    "version": 3
   },
   "file_extension": ".py",
   "mimetype": "text/x-python",
   "name": "python",
   "nbconvert_exporter": "python",
   "pygments_lexer": "ipython3",
   "version": "3.6.1"
  }
 },
 "nbformat": 4,
 "nbformat_minor": 2
}
